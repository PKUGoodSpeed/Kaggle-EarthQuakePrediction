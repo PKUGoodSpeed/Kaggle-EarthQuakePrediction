{
 "cells": [
  {
   "cell_type": "code",
   "execution_count": 2,
   "metadata": {},
   "outputs": [],
   "source": [
    "import os\n",
    "import gc\n",
    "import numpy as np\n",
    "import pandas as pd\n",
    "import matplotlib.pyplot as plt\n",
    "import seaborn as sns\n",
    "%matplotlib inline"
   ]
  },
  {
   "cell_type": "code",
   "execution_count": null,
   "metadata": {},
   "outputs": [
    {
     "name": "stdout",
     "output_type": "stream",
     "text": [
      "/home/goodspeed/Documents/workspace/Kaggle/Kaggle-EarthQuakePrediction/input\n",
      "/home/goodspeed/Documents/workspace/Kaggle/Kaggle-EarthQuakePrediction/input/train.csv\n"
     ]
    }
   ],
   "source": [
    "%%time\n",
    "DATA_PATH = '/home/goodspeed/Documents/workspace/Kaggle/Kaggle-EarthQuakePrediction/input'\n",
    "print(DATA_PATH)\n",
    "print(os.path.join(DATA_PATH, 'train.csv'))\n",
    "df = pd.read_csv(\n",
    "    os.path.join(DATA_PATH, 'train.csv'),\n",
    "    dtype={'acoustic_data': np.int16, 'time_to_failure': np.float32})\n",
    "print(df.shape)"
   ]
  },
  {
   "cell_type": "markdown",
   "metadata": {},
   "source": [
    "##### Since the training data is too large, we need to split it into small chunk files"
   ]
  },
  {
   "cell_type": "code",
   "execution_count": null,
   "metadata": {},
   "outputs": [],
   "source": [
    "%%time\n",
    "N = df.shape[0]\n",
    "CHUNK_SIZE = 10000000\n",
    "OVERLAP = 1000\n",
    "TRAIN_PATH = os.path.join(DATA_PATH, \"train\")\n",
    "if not os.path.exists(TRAIN_PATH):\n",
    "    os.makedirs(TRAIN_PATH)\n",
    "for i, j in enumerate(range(0, N, CHUNK_SIZE)):\n",
    "    print(i, j)\n",
    "    df_ = df[j: j + CHUNK_SIZE + OVERLAP]\n",
    "    file_path = os.path.join(TRAIN_PATH, \"chunk\" + str(int(i)) + \".csv\")\n",
    "    df_.to_csv(file_path, index=False)"
   ]
  },
  {
   "cell_type": "code",
   "execution_count": null,
   "metadata": {},
   "outputs": [],
   "source": []
  }
 ],
 "metadata": {
  "kernelspec": {
   "display_name": "Python 3",
   "language": "python",
   "name": "python3"
  },
  "language_info": {
   "codemirror_mode": {
    "name": "ipython",
    "version": 3
   },
   "file_extension": ".py",
   "mimetype": "text/x-python",
   "name": "python",
   "nbconvert_exporter": "python",
   "pygments_lexer": "ipython3",
   "version": "3.6.5"
  }
 },
 "nbformat": 4,
 "nbformat_minor": 2
}
